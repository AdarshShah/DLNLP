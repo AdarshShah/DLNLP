{
 "cells": [
  {
   "cell_type": "code",
   "execution_count": 15,
   "metadata": {},
   "outputs": [
    {
     "name": "stderr",
     "output_type": "stream",
     "text": [
      "[nltk_data] Downloading package words to /home/adarsh/nltk_data...\n",
      "[nltk_data]   Unzipping corpora/words.zip.\n"
     ]
    },
    {
     "data": {
      "text/plain": [
       "True"
      ]
     },
     "execution_count": 15,
     "metadata": {},
     "output_type": "execute_result"
    }
   ],
   "source": [
    "from nltk.corpus import wordnet as wn\n",
    "import nltk\n",
    "nltk.download('words')"
   ]
  },
  {
   "cell_type": "code",
   "execution_count": 14,
   "metadata": {},
   "outputs": [
    {
     "data": {
      "text/plain": [
       "['apple', 'apple', 'orchard_apple_tree', 'Malus_pumila']"
      ]
     },
     "execution_count": 14,
     "metadata": {},
     "output_type": "execute_result"
    }
   ],
   "source": [
    "def synonymns(word:str):\n",
    "    from nltk.corpus import wordnet as wn\n",
    "    synonymns = []\n",
    "    [ synonymns:=synonymns + synset.lemma_names('eng') for synset in wn.synsets(word) ]\n",
    "    synonymns"
   ]
  },
  {
   "cell_type": "code",
   "execution_count": null,
   "metadata": {},
   "outputs": [],
   "source": [
    "def jumble_numbers(sen1, sen2):\n",
    "    # '''\n",
    "    # suppose sen : 'w1 number0 w2 w3 number1'\n",
    "    # '''\n",
    "    # tokens = tokenizer(sen1)\n",
    "    # tokens2 = tokenizer(sen2)\n",
    "    # replace_with = np.random.permutation(np.arange(len(tokens2)//2 + 1))\n",
    "\n",
    "    # indices = { f'number{i}' : [j for j, token in enumerate(tokens) if token == f'number{i}'] for i in range(0,5) }\n",
    "    # for i in range(len(replace_with)):\n",
    "    #     for idx in indices[f'number{i}']:\n",
    "    #         tokens[idx] = f'number{replace_with[i]}'\n",
    "    # sen1 = ' '.join(tokens)\n",
    "\n",
    "    # indices = { f'number{i}' : [j for j, token in enumerate(tokens2) if token == f'number{i}'] for i in range(0,5) }\n",
    "    # for i in range(len(replace_with)):\n",
    "    #     for idx in indices[f'number{i}']:\n",
    "    #         tokens2[idx] = f'number{replace_with[i]}'\n",
    "\n",
    "    # sen2 = ' '.join(tokens2)\n",
    "    return sen1, sen2"
   ]
  }
 ],
 "metadata": {
  "kernelspec": {
   "display_name": "mtech-ai",
   "language": "python",
   "name": "python3"
  },
  "language_info": {
   "codemirror_mode": {
    "name": "ipython",
    "version": 3
   },
   "file_extension": ".py",
   "mimetype": "text/x-python",
   "name": "python",
   "nbconvert_exporter": "python",
   "pygments_lexer": "ipython3",
   "version": "3.8.13 (default, Mar 28 2022, 11:38:47) \n[GCC 7.5.0]"
  },
  "orig_nbformat": 4,
  "vscode": {
   "interpreter": {
    "hash": "35c8a66ee3e6b3d2731e4e1d203879b7efbef813706e5767cef09de0fdb5c447"
   }
  }
 },
 "nbformat": 4,
 "nbformat_minor": 2
}
